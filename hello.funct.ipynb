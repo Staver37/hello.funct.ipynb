{
 "cells": [
  {
   "cell_type": "markdown",
   "metadata": {},
   "source": [
    "\n",
    "##### Hello Function\n",
    "    def functionName(p1,p2,...):\n",
    "       ins_1\n",
    "       ins_2\n",
    "       ...\n",
    "       ins_N\n",
    "      return <value>\n"
   ]
  },
  {
   "cell_type": "markdown",
   "metadata": {},
   "source": [
    "# Architect"
   ]
  },
  {
   "cell_type": "code",
   "execution_count": 72,
   "metadata": {},
   "outputs": [],
   "source": [
    "# function definition\n",
    "def hi(lang, name):\n",
    "    if lang == \"en\" and name ==   \"JOHN\":\n",
    "        print(\"Hello JOHN\")\n",
    "    elif lang == \"ro\" and name == \"JOHN\":\n",
    "        print(\"Salut JOHN\")\n",
    "    elif lang == \"ru\" and name == \"JOHN\":\n",
    "        print(\"Привет JOHN\")\n",
    "       \n",
    "        "
   ]
  },
  {
   "cell_type": "code",
   "execution_count": 73,
   "metadata": {},
   "outputs": [
    {
     "name": "stdout",
     "output_type": "stream",
     "text": [
      "Hello JOHN\n",
      "Salut JOHN\n",
      "Привет JOHN\n"
     ]
    }
   ],
   "source": [
    "hi(\"en\",\"JOHN\")\n",
    "hi(\"ro\",\"JOHN\")\n",
    "hi(\"ru\",\"JOHN\")"
   ]
  }
 ],
 "metadata": {
  "interpreter": {
   "hash": "aee8b7b246df8f9039afb4144a1f6fd8d2ca17a180786b69acc140d282b71a49"
  },
  "kernelspec": {
   "display_name": "Python 3.10.4 64-bit",
   "language": "python",
   "name": "python3"
  },
  "language_info": {
   "codemirror_mode": {
    "name": "ipython",
    "version": 3
   },
   "file_extension": ".py",
   "mimetype": "text/x-python",
   "name": "python",
   "nbconvert_exporter": "python",
   "pygments_lexer": "ipython3",
   "version": "3.10.4"
  },
  "orig_nbformat": 4
 },
 "nbformat": 4,
 "nbformat_minor": 2
}
